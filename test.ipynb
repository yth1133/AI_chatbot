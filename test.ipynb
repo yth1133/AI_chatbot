{
 "cells": [
  {
   "cell_type": "code",
   "execution_count": 10,
   "metadata": {},
   "outputs": [],
   "source": [
    "import gradio as gr\n",
    "from openai import OpenAI\n",
    "import openai\n",
    "import os\n",
    "from dotenv import load_dotenv\n",
    "from langchain.chat_models import ChatOpenAI\n",
    "from langchain.schema import AIMessage, HumanMessage, SystemMessage\n",
    "from langchain.callbacks.streaming_stdout import StreamingStdOutCallbackHandler \n",
    "from langchain.chains import ConversationChain\n",
    "from langchain.memory import ConversationBufferWindowMemory \n",
    "from langchain.prompts import (\n",
    "    ChatPromptTemplate,\n",
    "    MessagesPlaceholder,\n",
    "    SystemMessagePromptTemplate,\n",
    "    HumanMessagePromptTemplate,\n",
    ")\n",
    "from langchain.chains import LLMChain\n",
    "\n",
    "\n",
    "load_dotenv()\n",
    "open_api_key = os.getenv(\"api_key\")\n",
    "os.environ['OPENAI_API_KEY'] = open_api_key\n"
   ]
  },
  {
   "cell_type": "code",
   "execution_count": 35,
   "metadata": {},
   "outputs": [],
   "source": [
    "# 템플릿 설정 - 영어로 설정하는 것이 정확도 및 속도에서 더 좋은 성능을 발휘합니다.\n",
    "system_ai = \"You are an artificial intelligence assistant, and you should be able to respond to various topics such as reading PDFs, summarizing documents, managing schedules, providing weather information, searching for the shortest route, and conducting web searches. Please respond briefly in Korean.\"\n",
    "system_ai2= \"당신은 인공지능 비서야, pdf 읽기, 문서요약하기, 일정 관리, 날씨, 최단경로 검색, 웹 검색 등 다양한 내용에 답변할 수 있어야해\"\n",
    "system_setting = SystemMessagePromptTemplate.from_template(system_ai)"
   ]
  },
  {
   "cell_type": "code",
   "execution_count": 36,
   "metadata": {},
   "outputs": [],
   "source": [
    "# 프롬프트 설정\n",
    "prompt = ChatPromptTemplate.from_messages([\n",
    "    system_setting,                                           # 역할부여\n",
    "    MessagesPlaceholder(variable_name=\"HeyMate\"),              # 메모리 저장소 설정. ConversationBufferMemory의 memory_key 와 동일하게 설정\n",
    "    HumanMessagePromptTemplate.from_template(\"{master_user}\"), # 사용자 메시지 injection\n",
    "])"
   ]
  },
  {
   "cell_type": "code",
   "execution_count": 37,
   "metadata": {},
   "outputs": [],
   "source": [
    "# 메모리 설정\n",
    "memory = ConversationBufferWindowMemory(memory_key=\"HeyMate\", \n",
    "                                  ai_prefix=\"AI 비서 HeyMate\",\n",
    "                                  human_prefix=\"사용자\",\n",
    "                                  return_messages=True,\n",
    "                                  k=10)"
   ]
  },
  {
   "cell_type": "code",
   "execution_count": 38,
   "metadata": {},
   "outputs": [],
   "source": [
    "# llm 모델 정의\n",
    "chatgpt = ChatOpenAI(\n",
    "    temperature=0.3,\n",
    "    max_tokens=2048,\n",
    "    model_name=\"gpt-3.5-turbo\"\n",
    "    ) "
   ]
  },
  {
   "cell_type": "code",
   "execution_count": 39,
   "metadata": {},
   "outputs": [],
   "source": [
    "# llmchain 정의\n",
    "conversation = LLMChain(\n",
    "    llm=chatgpt,   # LLM\n",
    "    prompt=prompt, # Prompt\n",
    "    verbose=True,  # True 로 설정시 로그 출력\n",
    "    memory=memory  # 메모리\n",
    ")"
   ]
  },
  {
   "cell_type": "code",
   "execution_count": 40,
   "metadata": {},
   "outputs": [
    {
     "name": "stdout",
     "output_type": "stream",
     "text": [
      "\n",
      "\n",
      "\u001b[1m> Entering new LLMChain chain...\u001b[0m\n",
      "Prompt after formatting:\n",
      "\u001b[32;1m\u001b[1;3mSystem: You are an artificial intelligence assistant, and you should be able to respond to various topics such as reading PDFs, summarizing documents, managing schedules, providing weather information, searching for the shortest route, and conducting web searches. Please respond briefly in Korean.\n",
      "Human: 나는 프로그래밍을 정말 좋아해요\u001b[0m\n",
      "\n",
      "\u001b[1m> Finished chain.\u001b[0m\n",
      "프로그래밍을 좋아하시는군요! 그렇다면 어떤 언어를 주로 사용하시나요?\n"
     ]
    }
   ],
   "source": [
    "# 6) 실행\n",
    "answer = conversation({\"master_user\": \"나는 프로그래밍을 정말 좋아해요\"})\n",
    "print(answer['text'])"
   ]
  },
  {
   "cell_type": "code",
   "execution_count": 41,
   "metadata": {},
   "outputs": [
    {
     "name": "stdout",
     "output_type": "stream",
     "text": [
      "\n",
      "\n",
      "\u001b[1m> Entering new LLMChain chain...\u001b[0m\n",
      "Prompt after formatting:\n",
      "\u001b[32;1m\u001b[1;3mSystem: You are an artificial intelligence assistant, and you should be able to respond to various topics such as reading PDFs, summarizing documents, managing schedules, providing weather information, searching for the shortest route, and conducting web searches. Please respond briefly in Korean.\n",
      "Human: 나는 프로그래밍을 정말 좋아해요\n",
      "AI: 프로그래밍을 좋아하시는군요! 그렇다면 어떤 언어를 주로 사용하시나요?\n",
      "Human: 파이썬 사용하고 있어\u001b[0m\n",
      "\n",
      "\u001b[1m> Finished chain.\u001b[0m\n",
      "파이썬은 매우 인기 있는 프로그래밍 언어입니다. 다양한 분야에서 활용할 수 있어서 좋은 선택이에요. 파이썬으로 어떤 프로젝트를 하고 계신가요?\n"
     ]
    }
   ],
   "source": [
    "answer = conversation({\"master_user\": \"파이썬 사용하고 있어\"})\n",
    "print(answer['text'])"
   ]
  },
  {
   "cell_type": "code",
   "execution_count": 34,
   "metadata": {},
   "outputs": [
    {
     "name": "stdout",
     "output_type": "stream",
     "text": [
      "\n",
      "\n",
      "\u001b[1m> Entering new LLMChain chain...\u001b[0m\n",
      "Prompt after formatting:\n",
      "\u001b[32;1m\u001b[1;3mSystem: 당신은 인공지능 비서야, pdf 읽기, 문서요약하기, 일정 관리, 날씨, 최단경로 검색, 웹 검색 등 다양한 내용에 답변할 수 있어야해\n",
      "Human: 나는 프로그래밍을 정말 좋아해요\n",
      "AI: 그렇군요! 프로그래밍은 매우 흥미로운 분야입니다. 어떤 언어나 프레임워크를 주로 사용하시나요? 또한, 어떤 종류의 프로젝트를 좋아하시나요? 저는 프로그래밍에 대한 질문이나 도움이 필요한 경우 언제든지 도와드릴 수 있습니다.\n",
      "Human: 파이썬 사용하고 있어\n",
      "AI: 파이썬은 매우 인기 있는 프로그래밍 언어입니다. 다양한 분야에서 사용되며, 문법이 간결하고 읽기 쉬워 초보자에게도 좋은 선택입니다. 파이썬을 사용하여 어떤 종류의 프로젝트를 하고 계신가요? 또한, 파이썬 관련해서 궁금한 점이 있거나 도움이 필요한 부분이 있다면 언제든지 물어보세요. 저는 파이썬에 대한 지식과 도움을 제공할 수 있습니다.\n",
      "Human: 챗봇 만들려고 하고 있어\u001b[0m\n",
      "\n",
      "\u001b[1m> Finished chain.\u001b[0m\n",
      "챗봇 만들기는 파이썬을 사용하여 많이 시도하는 프로젝트 중 하나입니다. 파이썬에는 챗봇 개발을 위한 다양한 라이브러리와 프레임워크가 있어서 쉽게 시작할 수 있습니다. 예를 들면, NLTK(Natural Language Toolkit), SpaCy, TensorFlow, PyTorch 등이 있습니다.\n",
      "\n",
      "챗봇을 만들기 위해서는 자연어 처리(Natural Language Processing, NLP)와 기계 학습(Machine Learning)에 대한 이해가 필요합니다. 이를 위해 파이썬의 NLP 라이브러리와 기계 학습 라이브러리를 활용하여 챗봇을 개발할 수 있습니다.\n",
      "\n",
      "챗봇 개발에 대해 더 자세한 정보나 도움이 필요하다면 언제든지 물어보세요. 저는 챗봇 개발에 대한 이해와 도움을 제공할 수 있습니다.\n"
     ]
    }
   ],
   "source": [
    "answer = conversation({\"master_user\": \"챗봇 만들려고 하고 있어\"})\n",
    "print(answer['text'])"
   ]
  },
  {
   "cell_type": "code",
   "execution_count": 19,
   "metadata": {},
   "outputs": [],
   "source": [
    "memory.clear()"
   ]
  },
  {
   "cell_type": "code",
   "execution_count": null,
   "metadata": {},
   "outputs": [],
   "source": [
    "answer"
   ]
  },
  {
   "cell_type": "code",
   "execution_count": null,
   "metadata": {},
   "outputs": [],
   "source": [
    "answer = conversation({\"human_input\": \"할게 너무 많네\"})\n",
    "print(answer['text'])"
   ]
  },
  {
   "cell_type": "code",
   "execution_count": null,
   "metadata": {},
   "outputs": [],
   "source": [
    "answer"
   ]
  },
  {
   "cell_type": "code",
   "execution_count": null,
   "metadata": {},
   "outputs": [],
   "source": []
  }
 ],
 "metadata": {
  "kernelspec": {
   "display_name": "heymate",
   "language": "python",
   "name": "python3"
  },
  "language_info": {
   "codemirror_mode": {
    "name": "ipython",
    "version": 3
   },
   "file_extension": ".py",
   "mimetype": "text/x-python",
   "name": "python",
   "nbconvert_exporter": "python",
   "pygments_lexer": "ipython3",
   "version": "3.10.13"
  }
 },
 "nbformat": 4,
 "nbformat_minor": 2
}
