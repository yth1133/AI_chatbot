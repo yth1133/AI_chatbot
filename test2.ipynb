{
 "cells": [
  {
   "cell_type": "code",
   "execution_count": 2,
   "metadata": {},
   "outputs": [
    {
     "name": "stderr",
     "output_type": "stream",
     "text": [
      "/home/yth1133/miniconda3/envs/heymate/lib/python3.10/site-packages/tqdm/auto.py:21: TqdmWarning: IProgress not found. Please update jupyter and ipywidgets. See https://ipywidgets.readthedocs.io/en/stable/user_install.html\n",
      "  from .autonotebook import tqdm as notebook_tqdm\n"
     ]
    }
   ],
   "source": [
    "import gradio as gr\n",
    "from openai import OpenAI\n",
    "import openai\n",
    "import os\n",
    "from dotenv import load_dotenv\n",
    "from langchain.chat_models import ChatOpenAI\n",
    "from langchain.schema import AIMessage, HumanMessage, SystemMessage\n",
    "from langchain.callbacks.streaming_stdout import StreamingStdOutCallbackHandler \n",
    "from langchain.chains import ConversationChain\n",
    "from langchain.memory import ConversationBufferWindowMemory \n",
    "from langchain.prompts import (\n",
    "    ChatPromptTemplate,\n",
    "    MessagesPlaceholder,\n",
    "    SystemMessagePromptTemplate,\n",
    "    HumanMessagePromptTemplate,\n",
    ")\n",
    "from langchain.chains import LLMChain\n",
    "\n",
    "\n",
    "load_dotenv()\n",
    "open_api_key = os.getenv(\"api_key\")\n",
    "os.environ['OPENAI_API_KEY'] = open_api_key\n",
    "\n",
    "# 템플릿 설정 - 영어로 설정하는 것이 정확도 및 속도에서 더 좋은 성능을 발휘합니다.\n",
    "system_ai = \"You are an artificial intelligence assistant, and you should be able to respond to various topics such as reading PDFs, summarizing documents, managing schedules, providing weather information, searching for the shortest route, and conducting web searches. Please respond briefly in Korean.\"\n",
    "system_ai2= \"당신은 인공지능 비서야, pdf 읽기, 문서요약하기, 일정 관리, 날씨, 최단경로 검색, 웹 검색 등 다양한 내용에 답변할 수 있어야해\"\n",
    "system_setting = SystemMessagePromptTemplate.from_template(system_ai)\n",
    "# 프롬프트 설정\n",
    "prompt = ChatPromptTemplate.from_messages([\n",
    "    system_setting,                                           # 역할부여\n",
    "    MessagesPlaceholder(variable_name=\"HeyMate\"),              # 메모리 저장소 설정. ConversationBufferMemory의 memory_key 와 동일하게 설정\n",
    "    HumanMessagePromptTemplate.from_template(\"{master_user}\"), # 사용자 메시지 injection\n",
    "])\n",
    "# 메모리 설정\n",
    "memory = ConversationBufferWindowMemory(memory_key=\"HeyMate\", \n",
    "                                  ai_prefix=\"AI 비서 HeyMate\",\n",
    "                                  human_prefix=\"사용자\",\n",
    "                                  return_messages=True,\n",
    "                                  k=10)\n",
    "# llm 모델 정의\n",
    "chatgpt = ChatOpenAI(\n",
    "    temperature=0.3,\n",
    "    max_tokens=2048,\n",
    "    model_name=\"gpt-3.5-turbo\"\n",
    "    ) \n",
    "# llmchain 정의\n",
    "conversation = LLMChain(\n",
    "    llm=chatgpt,   # LLM\n",
    "    prompt=prompt, # Prompt\n",
    "    verbose=True,  # True 로 설정시 로그 출력\n",
    "    memory=memory  # 메모리\n",
    ")"
   ]
  },
  {
   "cell_type": "code",
   "execution_count": 3,
   "metadata": {},
   "outputs": [
    {
     "name": "stdout",
     "output_type": "stream",
     "text": [
      "\n",
      "\n",
      "\u001b[1m> Entering new LLMChain chain...\u001b[0m\n",
      "Prompt after formatting:\n",
      "\u001b[32;1m\u001b[1;3mSystem: You are an artificial intelligence assistant, and you should be able to respond to various topics such as reading PDFs, summarizing documents, managing schedules, providing weather information, searching for the shortest route, and conducting web searches. Please respond briefly in Korean.\n",
      "Human: 안녕하세요\u001b[0m\n",
      "\n",
      "\u001b[1m> Finished chain.\u001b[0m\n"
     ]
    }
   ],
   "source": [
    "answer = conversation({\"master_user\": \"안녕하세요\"})"
   ]
  },
  {
   "cell_type": "code",
   "execution_count": 7,
   "metadata": {},
   "outputs": [],
   "source": []
  },
  {
   "cell_type": "code",
   "execution_count": 8,
   "metadata": {},
   "outputs": [
    {
     "data": {
      "text/plain": [
       "ConversationBufferWindowMemory(return_messages=True, human_prefix='사용자', ai_prefix='AI 비서 HeyMate', memory_key='HeyMate', k=10)"
      ]
     },
     "execution_count": 8,
     "metadata": {},
     "output_type": "execute_result"
    }
   ],
   "source": [
    "memory"
   ]
  },
  {
   "cell_type": "code",
   "execution_count": 12,
   "metadata": {},
   "outputs": [
    {
     "data": {
      "text/plain": [
       "('안녕하세요', '안녕하세요! 무엇을 도와드릴까요?')"
      ]
     },
     "execution_count": 12,
     "metadata": {},
     "output_type": "execute_result"
    }
   ],
   "source": [
    "memory.chat_memory.messages[0].content, memory.chat_memory.messages[1].content"
   ]
  },
  {
   "cell_type": "code",
   "execution_count": 13,
   "metadata": {},
   "outputs": [
    {
     "data": {
      "text/plain": [
       "['안녕하세요', '안녕하세요! 무엇을 도와드릴까요?']"
      ]
     },
     "execution_count": 13,
     "metadata": {},
     "output_type": "execute_result"
    }
   ],
   "source": [
    "history = [x.content for x in memory.chat_memory.messages]\n",
    "history"
   ]
  },
  {
   "cell_type": "code",
   "execution_count": 18,
   "metadata": {},
   "outputs": [],
   "source": [
    "history2 = list(zip(history[0::2], history[1::2]))"
   ]
  },
  {
   "cell_type": "code",
   "execution_count": 19,
   "metadata": {},
   "outputs": [
    {
     "data": {
      "text/plain": [
       "[('안녕하세요', '안녕하세요! 무엇을 도와드릴까요?')]"
      ]
     },
     "execution_count": 19,
     "metadata": {},
     "output_type": "execute_result"
    }
   ],
   "source": [
    "history2"
   ]
  },
  {
   "cell_type": "code",
   "execution_count": 9,
   "metadata": {},
   "outputs": [],
   "source": [
    "from gtts import gTTS\n",
    "import os\n",
    "\n",
    "text = \"안녕하세요, 반갑습니다.\"\n",
    "tts = gTTS(text=text, lang='ko')\n",
    "tts.save(\"output.mp3\")"
   ]
  },
  {
   "cell_type": "code",
   "execution_count": 11,
   "metadata": {},
   "outputs": [
    {
     "name": "stderr",
     "output_type": "stream",
     "text": [
      "sh: 1: start: not found\n"
     ]
    },
    {
     "data": {
      "text/plain": [
       "32512"
      ]
     },
     "execution_count": 11,
     "metadata": {},
     "output_type": "execute_result"
    }
   ],
   "source": [
    "os.system(\"start output.mp3\")"
   ]
  },
  {
   "cell_type": "code",
   "execution_count": null,
   "metadata": {},
   "outputs": [],
   "source": []
  }
 ],
 "metadata": {
  "kernelspec": {
   "display_name": "heymate",
   "language": "python",
   "name": "python3"
  },
  "language_info": {
   "codemirror_mode": {
    "name": "ipython",
    "version": 3
   },
   "file_extension": ".py",
   "mimetype": "text/x-python",
   "name": "python",
   "nbconvert_exporter": "python",
   "pygments_lexer": "ipython3",
   "version": "3.10.13"
  }
 },
 "nbformat": 4,
 "nbformat_minor": 2
}
