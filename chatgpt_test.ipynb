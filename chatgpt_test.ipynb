{
 "cells": [
  {
   "cell_type": "code",
   "execution_count": null,
   "metadata": {},
   "outputs": [],
   "source": [
    "import gradio as gr\n",
    "from openai import OpenAI\n",
    "import os\n",
    "from dotenv import load_dotenv\n",
    "load_dotenv(\".env\")\n",
    "open_api_key = os.getenv(\"api_key\")\n",
    "client = OpenAI(api_key=open_api_key)\n",
    "\n",
    "\n",
    "# message는 유저의 채팅 메시지, history는 채팅 기록\n",
    "message_history = [{\"role\": \"system\", \"content\": \"당신은 챗봇 상담원입니다\"}]\n",
    "def response(message, history):\n",
    "    tmp_msg = {\"role\": \"user\", \"content\": message}\n",
    "    if history:\n",
    "        assistant_msg = {\"role\": \"assistant\", \"content\": history[-1][-1]} # 이전 대화 내용 history 에 있는 내용 가져오기\n",
    "        message_history.append(assistant_msg)   # 이전 gpt응답 내용 assistant 로 추가\n",
    "    message_history.append(tmp_msg)     # 새롭게 질문할 내용\n",
    "    print(\"질문내용입니다: \", message)\n",
    "    response = client.chat.completions.create(\n",
    "        model = \"gpt-3.5-turbo\", # 사용할 모델명 입력,\\\n",
    "        messages = message_history)\n",
    "    chatgpt_res = response.choices[0].message.content\n",
    "    print(\"답변입니다: \", chatgpt_res)\n",
    "    return chatgpt_res\n",
    "\n",
    "gr.ChatInterface(\n",
    "        fn=response,\n",
    "        textbox=gr.Textbox(placeholder=\"채팅적어주세요..\", container=False, scale=7),\n",
    "        title=\"그라디오를 이용한 chatGPT api 사용법입니다\",\n",
    "        description=\"chatGPT를 이용한 답변을 받아보세요\",\n",
    "        theme=\"soft\",\n",
    "        examples=[[\"그라디오 사용법 알려줘\"], [\"chatGPT 사용법 알려줘\"], [\"챗봇 구현방법 알려줘\"]],\n",
    "        retry_btn=\"다시보내기 ↩\",\n",
    "        undo_btn=\"이전챗 삭제 ❌\",\n",
    "        clear_btn=\"전챗 삭제 💫\",\n",
    ").launch(share=True)"
   ]
  },
  {
   "cell_type": "code",
   "execution_count": null,
   "metadata": {},
   "outputs": [],
   "source": []
  }
 ],
 "metadata": {
  "kernelspec": {
   "display_name": "heymate",
   "language": "python",
   "name": "python3"
  },
  "language_info": {
   "codemirror_mode": {
    "name": "ipython",
    "version": 3
   },
   "file_extension": ".py",
   "mimetype": "text/x-python",
   "name": "python",
   "nbconvert_exporter": "python",
   "pygments_lexer": "ipython3",
   "version": "3.10.13"
  }
 },
 "nbformat": 4,
 "nbformat_minor": 2
}
